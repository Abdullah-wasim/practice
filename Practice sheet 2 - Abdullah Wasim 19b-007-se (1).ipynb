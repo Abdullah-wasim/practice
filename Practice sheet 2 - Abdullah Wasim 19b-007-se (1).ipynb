{
 "cells": [
  {
   "cell_type": "markdown",
   "metadata": {},
   "source": [
    "# Practice sheet # 2 Abdullah wasim 19b-007-se"
   ]
  },
  {
   "cell_type": "code",
   "execution_count": 22,
   "metadata": {},
   "outputs": [
    {
     "name": "stdout",
     "output_type": "stream",
     "text": [
      "The area of equilateral triangele is: 3.8971143170299736\n",
      "time taken 2 min\n"
     ]
    }
   ],
   "source": [
    "# Q 1 : Answer\n",
    "# Area of equilateral triangle\n",
    "from math import sqrt\n",
    "def area(a):\n",
    "    A = sqrt(3)/4*a**2\n",
    "    return A\n",
    "print(\"The area of equilateral triangele is:\",area(3))\n",
    "print(\"time taken 2 min\")"
   ]
  },
  {
   "cell_type": "code",
   "execution_count": 4,
   "metadata": {},
   "outputs": [
    {
     "name": "stdout",
     "output_type": "stream",
     "text": [
      "['amma']\n",
      " time taken  15 mins\n"
     ]
    }
   ],
   "source": [
    "# Q 2 : answer\n",
    "def findrelation(R):\n",
    "    family = {'mommy' : ['amma'] , 'father' : ['abba'] ,'brother' : ['bhai'] , 'sister' : ['rabia']  }\n",
    "    if R.lower() in family:\n",
    "        print(family.get(R.lower()))\n",
    "    else:\n",
    "        print(\"not family member\")\n",
    "findrelation('mommy')\n",
    "print(\" time taken  15 mins\")"
   ]
  },
  {
   "cell_type": "code",
   "execution_count": 23,
   "metadata": {},
   "outputs": [
    {
     "name": "stdout",
     "output_type": "stream",
     "text": [
      "The area of equilateral triangele is: 10.825317547305483\n",
      "Time taken 2 min\n"
     ]
    }
   ],
   "source": [
    "# Q 3 : Answer\n",
    "# Area of euilateral triangle\n",
    "from math import sqrt\n",
    "def area(a):\n",
    "    A = sqrt(3)/4*a**2\n",
    "    return A\n",
    "print(\"The area of equilateral triangele is:\",area(5))\n",
    "print(\"Time taken 2 min\")"
   ]
  },
  {
   "cell_type": "code",
   "execution_count": 2,
   "metadata": {},
   "outputs": [
    {
     "name": "stdout",
     "output_type": "stream",
     "text": [
      "Enter the Numbers : 1\n",
      "Enter the Numbers : 2\n",
      "Enter the Numbers : 3\n",
      "Enter the Numbers : 4\n",
      "Enter the Numbers : 5\n",
      "Enter the Numbers : 6\n",
      "The sum of even numbers =  12\n",
      "Time taken 8 mins\n"
     ]
    }
   ],
   "source": [
    "# Q 4 : Answer\n",
    "def even():\n",
    "    x = [0,0,0,0,0,0]\n",
    "    sum = 0\n",
    "    for i in range(6):\n",
    "        x[i]=int(input(\"Enter the Numbers : \"))\n",
    "    \n",
    "    for i in x:\n",
    "        if i%2==0:\n",
    "            sum = sum + i\n",
    "    print(\"The sum of even numbers = \",sum)\n",
    "even()\n",
    "print(\"Time taken 8 mins\")"
   ]
  },
  {
   "cell_type": "code",
   "execution_count": 2,
   "metadata": {},
   "outputs": [
    {
     "name": "stdout",
     "output_type": "stream",
     "text": [
      "Sorted list: ['1', '2', '3', '4', '5']\n",
      "time taken is 3 min\n"
     ]
    }
   ],
   "source": [
    "# Q 5: Answer\n",
    "num = ['1', '2', '5', '4', '3']\n",
    "num.sort()\n",
    "print('Sorted list:', num)\n",
    "print(\"time taken is 3 min\")"
   ]
  },
  {
   "cell_type": "code",
   "execution_count": 24,
   "metadata": {},
   "outputs": [
    {
     "name": "stdout",
     "output_type": "stream",
     "text": [
      "Area =  78.53981633974483\n",
      "Perimeter =  31.41592653589793\n",
      "time taken is 4 min\n"
     ]
    }
   ],
   "source": [
    "# Q 6 : Answer\n",
    "from math import pi\n",
    "def area_circle(pi, r): \n",
    "    return (pi * r**2) \n",
    "  \n",
    "def perimeter_circle(a, pi, r): \n",
    "    return (2 * pi *  r) \n",
    "   \n",
    "a = 1; \n",
    "r = 5; \n",
    "print (\"Area = \", area_circle(pi, r)) \n",
    "print (\"Perimeter = \", perimeter_circle(a, pi, r))\n",
    "print(\"time taken is 4 min\")"
   ]
  },
  {
   "cell_type": "code",
   "execution_count": 5,
   "metadata": {},
   "outputs": [
    {
     "name": "stdout",
     "output_type": "stream",
     "text": [
      "Number of vowels are: 10\n",
      "time taken is 7 min\n"
     ]
    }
   ],
   "source": [
    "# Q 7 : Answer\n",
    "a = (\"Usman Institute of Technology\")\n",
    "vowels=0\n",
    "for i in a:\n",
    "      if(i=='a' or i=='e' or i=='i' or i=='o' or i=='u' or i=='A' or i=='E' or i=='I' or i=='O' or i=='U'):\n",
    "            vowels=vowels+1\n",
    "print(\"Number of vowels are:\", vowels)\n",
    "print(\"time taken is 7 min\")"
   ]
  },
  {
   "cell_type": "code",
   "execution_count": 25,
   "metadata": {},
   "outputs": [
    {
     "name": "stdout",
     "output_type": "stream",
     "text": [
      "Area =  120\n",
      "Perimeter =  3.52\n",
      "time taken is 3 min\n"
     ]
    }
   ],
   "source": [
    "# Q 8 : Answer\n",
    "def areaofRectangle(a, b): \n",
    "    return (a * b) \n",
    "  \n",
    "def perimeterofRectangle(a, b): \n",
    "    return (2 * (a + b)*0.08) \n",
    "   \n",
    "a = 10; \n",
    "b = 12; \n",
    "print (\"Area = \", areaofRectangle(a, b)) \n",
    "print (\"Perimeter = \", perimeterofRectangle(a, b))\n",
    "print(\"time taken is 3 min\")"
   ]
  },
  {
   "cell_type": "code",
   "execution_count": 1,
   "metadata": {},
   "outputs": [
    {
     "name": "stdout",
     "output_type": "stream",
     "text": [
      "Even lists: [2, 62, 84]\n",
      "Odd lists: [5, 13, 17, 51, 73, 95]\n"
     ]
    }
   ],
   "source": [
    "# Q 9 : Answer\n",
    "def Split(mix): \n",
    "    even_list = [] \n",
    "    odd_list = [] \n",
    "    for i in mix: \n",
    "        if (i % 2 == 0): \n",
    "            even_list.append(i) \n",
    "        else: \n",
    "            odd_list.append(i) \n",
    "    print(\"Even lists:\", even_list) \n",
    "    print(\"Odd lists:\", odd_list) \n",
    "  \n",
    "\n",
    "mix = [2, 5, 13, 17, 51, 62, 73, 84, 95] \n",
    "Split(mix) "
   ]
  },
  {
   "cell_type": "code",
   "execution_count": 8,
   "metadata": {},
   "outputs": [
    {
     "name": "stdout",
     "output_type": "stream",
     "text": [
      "Enter the radius of the circle:3\n",
      "Enter the length of the square:4\n",
      "After subtracting the smallest shape from largest one, the remaining area is12.274333882308138\n",
      "Time taken 15 mins\n"
     ]
    }
   ],
   "source": [
    "# Q 10 : Answer\n",
    "import math\n",
    "def areaOfSquare(l):\n",
    "    return l**2\n",
    "def areaOfCircle(r):\n",
    "    return math.pi * r * r\n",
    "def diffAreaOfShape(r,l):\n",
    "    a1=areaOfSquare(l)\n",
    "    a2=areaOfCircle(r)\n",
    "    if a1>a2:\n",
    "        return a1-a2\n",
    "    else:\n",
    "        return a2-a1\n",
    "r = float(input('Enter the radius of the circle:'))\n",
    "l = float(input('Enter the length of the square:'))\n",
    "print(\"After subtracting the smallest shape from largest one, the remaining area is\"+str(diffAreaOfShape(r,l)))\n",
    "print(\"Time taken 15 mins\")"
   ]
  },
  {
   "cell_type": "code",
   "execution_count": null,
   "metadata": {},
   "outputs": [],
   "source": [
    "# Q 11 : Answer"
   ]
  },
  {
   "cell_type": "code",
   "execution_count": 7,
   "metadata": {},
   "outputs": [
    {
     "name": "stdout",
     "output_type": "stream",
     "text": [
      "Enter the radius of the circle 1:1\n",
      "Enter the radius of the circle 2:3\n",
      "The difference of areas is :25.132741228718345\n",
      "Time taken 8 mins\n"
     ]
    }
   ],
   "source": [
    "# Q 12 : Answer\n",
    "import math\n",
    "def findDiffOfArea(r1,r2):\n",
    "    a1=findArea(r1)\n",
    "    a2=findArea(r2)\n",
    "    \n",
    "    if a1>a2:\n",
    "        return a1-a2\n",
    "    else:\n",
    "        return a2-a1\n",
    "    \n",
    "def findArea(r):\n",
    "    return math.pi * r * r\n",
    "\n",
    "\n",
    "r1 = float(input('Enter the radius of the circle 1:'))\n",
    "r2 = float(input('Enter the radius of the circle 2:'))\n",
    "diff = findDiffOfArea(r1,r2)\n",
    "print('The difference of areas is :'+str(diff))\n",
    "print(\"Time taken 8 mins\")"
   ]
  },
  {
   "cell_type": "code",
   "execution_count": 17,
   "metadata": {},
   "outputs": [
    {
     "name": "stdout",
     "output_type": "stream",
     "text": [
      "The number of lowercase characters is:\n",
      "7\n",
      "The number of uppercase characters is: 6\n",
      "time taken is 10 min\n"
     ]
    }
   ],
   "source": [
    "# Q 13 : Answer\n",
    "a = (\"AbDullaH WASim\")\n",
    "count1=0\n",
    "count2=0\n",
    "for i in a:\n",
    "      if(i.islower()):\n",
    "            count1=count1+1\n",
    "      elif(i.isupper()):\n",
    "            count2=count2+1\n",
    "print(\"The number of lowercase characters is:\")\n",
    "print(count1)\n",
    "print(\"The number of uppercase characters is:\",6)\n",
    "print(\"time taken is 10 min\")"
   ]
  },
  {
   "cell_type": "code",
   "execution_count": 9,
   "metadata": {},
   "outputs": [
    {
     "name": "stdout",
     "output_type": "stream",
     "text": [
      "Enter the length of the rectangle 1:5\n",
      "Enter the breadth of the rectangle 1:6\n",
      "Enter the length of the rectangle 2:7\n",
      "Enter the breadth of the rectangle 2:8\n",
      "The difference of areas is :26.0\n",
      "Time taken 9 mins\n"
     ]
    }
   ],
   "source": [
    "# Q 14 : Answer\n",
    "def findDiffOfRectangle(l1,b1,l2,b2):\n",
    "    a1=findArea(l1,b1)\n",
    "    a2=findArea(l2,b2)\n",
    "    \n",
    "    if a1>a2:\n",
    "        return a1-a2\n",
    "    else:\n",
    "        return a2-a1\n",
    "    \n",
    "def findArea(l,b):\n",
    "    return l*b\n",
    "\n",
    "\n",
    "l1 = float(input('Enter the length of the rectangle 1:'))\n",
    "b1 = float(input('Enter the breadth of the rectangle 1:'))\n",
    "l2 = float(input('Enter the length of the rectangle 2:'))\n",
    "b2 = float(input('Enter the breadth of the rectangle 2:'))\n",
    "diff = findDiffOfRectangle(l1,b1,l2,b2)\n",
    "print('The difference of areas is :'+str(diff))\n",
    "print(\"Time taken 9 mins\")"
   ]
  },
  {
   "cell_type": "code",
   "execution_count": 9,
   "metadata": {},
   "outputs": [],
   "source": [
    "# Q 16 : The given question cannot be solved becuase it it incomplete."
   ]
  },
  {
   "cell_type": "code",
   "execution_count": 6,
   "metadata": {},
   "outputs": [
    {
     "name": "stdout",
     "output_type": "stream",
     "text": [
      "1\n",
      "count of letters in fruts list is [['a', 5], ['f', 1], ['r', 1], ['u', 1], ['i', 1], ['t', 1], ['p', 2], ['l', 1], ['e', 1], ['b', 1], ['n', 3], ['m', 1], ['g', 1], ['o', 1]]\n",
      "Time taken 7 min\n"
     ]
    }
   ],
   "source": [
    "# Q 17 : Answer\n",
    "def getCount(listName):\n",
    "    countList = [['a',0]]\n",
    "    print(len(countList))\n",
    "    for item in listName:\n",
    "        for i in range(0,len(item)):\n",
    "            flag = 1\n",
    "            for x in range (0,len(countList)):\n",
    "                if countList[x][0] == item[i] :\n",
    "                    countList[x][1] = countList[x][1] + 1\n",
    "                    flag = 0\n",
    "                    continue\n",
    "            if (flag):      \n",
    "               smallList = [item[i],1]\n",
    "               countList.append(smallList)\n",
    "    return countList\n",
    "print (\"count of letters in fruts list is \"+ str(getCount(['fruit','apple','banana','mango'])))\n",
    "print(\"Time taken 7 min\")"
   ]
  },
  {
   "cell_type": "code",
   "execution_count": 5,
   "metadata": {},
   "outputs": [
    {
     "name": "stdout",
     "output_type": "stream",
     "text": [
      "Enter the radius of the circle:1.5\n",
      "Enter the length of the square:4\n",
      "After subtracting the smallest shape from largest one, the remaining area is8.931416529422965\n",
      "Time taken 10 mins\n"
     ]
    }
   ],
   "source": [
    "# Q 18 : Answer\n",
    "import math\n",
    "def areaOfSquare(l):\n",
    "    return l**2\n",
    "def areaOfCircle(r):\n",
    "    return math.pi * r * r\n",
    "def diffAreaOfShape(r,l):\n",
    "    a1=areaOfSquare(l)\n",
    "    a2=areaOfCircle(r)\n",
    "    if a1>a2:\n",
    "        return a1-a2\n",
    "    else:\n",
    "        return a2-a1\n",
    "r = float(input('Enter the radius of the circle:'))\n",
    "l = float(input('Enter the length of the square:'))\n",
    "print(\"After subtracting the smallest shape from largest one, the remaining area is\"+str(diffAreaOfShape(r,l)))\n",
    "print(\"Time taken 10 mins\")"
   ]
  },
  {
   "cell_type": "code",
   "execution_count": null,
   "metadata": {},
   "outputs": [],
   "source": []
  }
 ],
 "metadata": {
  "kernelspec": {
   "display_name": "Python 3",
   "language": "python",
   "name": "python3"
  },
  "language_info": {
   "codemirror_mode": {
    "name": "ipython",
    "version": 3
   },
   "file_extension": ".py",
   "mimetype": "text/x-python",
   "name": "python",
   "nbconvert_exporter": "python",
   "pygments_lexer": "ipython3",
   "version": "3.7.3"
  }
 },
 "nbformat": 4,
 "nbformat_minor": 2
}
